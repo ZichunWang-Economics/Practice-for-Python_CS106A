{
 "cells": [
  {
   "cell_type": "markdown",
   "id": "4e6d3352",
   "metadata": {},
   "source": [
    "<h1 style=\"font-size:3rem;color:orange;\">Practice 1</h1>"
   ]
  },
  {
   "cell_type": "markdown",
   "id": "621dcd90",
   "metadata": {},
   "source": [
    "# 认识Jupyter Notebook"
   ]
  },
  {
   "cell_type": "markdown",
   "id": "73211b6c",
   "metadata": {},
   "source": [
    "<img src=\"https://pic1.zhimg.com/v2-597652232d9f5b4a91dd22b1ec40064b_1440w.jpg?source=172ae18b\">"
   ]
  },
  {
   "cell_type": "markdown",
   "id": "789a991e",
   "metadata": {},
   "source": [
    "## Basic Output"
   ]
  },
  {
   "cell_type": "code",
   "execution_count": 1,
   "id": "ab4715cd",
   "metadata": {},
   "outputs": [
    {
     "name": "stdout",
     "output_type": "stream",
     "text": [
      "Hello, sir.\n"
     ]
    }
   ],
   "source": [
    "print('Hello, sir.')"
   ]
  },
  {
   "cell_type": "markdown",
   "id": "beb035e3",
   "metadata": {},
   "source": [
    "## Import a Variable into a string"
   ]
  },
  {
   "cell_type": "code",
   "execution_count": 2,
   "id": "59a28112",
   "metadata": {},
   "outputs": [
    {
     "name": "stdout",
     "output_type": "stream",
     "text": [
      "What's your name?Jack\n",
      "Hello, Jack!\n"
     ]
    }
   ],
   "source": [
    "person = input(\"What's your name?\")\n",
    "message = \"Hello, {}!\".format(person)\n",
    "print(message)"
   ]
  },
  {
   "cell_type": "markdown",
   "id": "30eee912",
   "metadata": {},
   "source": [
    "## Multi-line Strings and String Length"
   ]
  },
  {
   "cell_type": "code",
   "execution_count": 3,
   "id": "7e416884",
   "metadata": {},
   "outputs": [
    {
     "name": "stdout",
     "output_type": "stream",
     "text": [
      "I am a student\n",
      "You are a student\n",
      "We are both students\n",
      "53\n"
     ]
    }
   ],
   "source": [
    "#三个引号\n",
    "story = '''I am a student\n",
    "You are a student\n",
    "We are both students'''\n",
    "print(story)\n",
    "print(len(story))"
   ]
  },
  {
   "cell_type": "markdown",
   "id": "e396aedf",
   "metadata": {},
   "source": [
    "## Math Operations"
   ]
  },
  {
   "cell_type": "code",
   "execution_count": 10,
   "id": "a967ee82",
   "metadata": {},
   "outputs": [
    {
     "name": "stdout",
     "output_type": "stream",
     "text": [
      "9.333333333333334 9 0\n"
     ]
    }
   ],
   "source": [
    "x = 7\n",
    "y = 3\n",
    "z = (x * 4) / 3 #python里面除法是两个问号下面的斜杠，一个斜杠是除法，两个斜杠实际上是除法之后取整（抹掉小数点后面）\n",
    "u = (x * 4) // 3\n",
    "w = (x * 4) % 7 #求余数\n",
    "print(z,u, w)"
   ]
  },
  {
   "cell_type": "markdown",
   "id": "42a92d31",
   "metadata": {},
   "source": [
    "## Lists(array)"
   ]
  },
  {
   "cell_type": "code",
   "execution_count": 12,
   "id": "f82f8304",
   "metadata": {},
   "outputs": [
    {
     "name": "stdout",
     "output_type": "stream",
     "text": [
      "A C\n"
     ]
    }
   ],
   "source": [
    "friends = ['A','B','C','You']\n",
    "print(friends[0],friends[2])"
   ]
  }
 ],
 "metadata": {
  "kernelspec": {
   "display_name": "Python 3",
   "language": "python",
   "name": "python3"
  },
  "language_info": {
   "codemirror_mode": {
    "name": "ipython",
    "version": 3
   },
   "file_extension": ".py",
   "mimetype": "text/x-python",
   "name": "python",
   "nbconvert_exporter": "python",
   "pygments_lexer": "ipython3",
   "version": "3.8.8"
  }
 },
 "nbformat": 4,
 "nbformat_minor": 5
}
