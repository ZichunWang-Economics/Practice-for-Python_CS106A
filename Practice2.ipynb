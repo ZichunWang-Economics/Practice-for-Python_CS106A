{
 "cells": [
  {
   "cell_type": "markdown",
   "id": "71d26003",
   "metadata": {},
   "source": [
    "<h1 style='font-size:3rem; color:orange;'>Practice 2</h1>"
   ]
  },
  {
   "cell_type": "markdown",
   "id": "ededbd40",
   "metadata": {},
   "source": [
    "<img src=\"https://img.freepik.com/free-photo/ai-nuclear-energy-background-future-innovation-disruptive-technology_53876-129783.jpg?t=st=1646321505~exp=1646322105~hmac=4f884f1c3a3288bb4443d48de97a6343ebac4a32ad4fd6ce77b50e70c04ec4ca&w=1380\">"
   ]
  },
  {
   "cell_type": "markdown",
   "id": "e6b867b2",
   "metadata": {},
   "source": [
    "我们将以Karels机器人作为学习的核心，在此之前，首先加载机器人。"
   ]
  },
  {
   "cell_type": "markdown",
   "id": "3bd58e5b",
   "metadata": {},
   "source": [
    "# def func"
   ]
  },
  {
   "cell_type": "code",
   "execution_count": 19,
   "id": "f77137b6",
   "metadata": {},
   "outputs": [],
   "source": [
    "from stanfordkarel import *"
   ]
  },
  {
   "cell_type": "code",
   "execution_count": 20,
   "id": "9a3f33cb",
   "metadata": {},
   "outputs": [],
   "source": [
    "def main():\n",
    "    move()\n",
    "    pick_beeper()\n",
    "    move()\n",
    "    turn_left()\n",
    "    move()\n",
    "    turn_right()\n",
    "    move()\n",
    "    put_beeper()\n",
    "    move()"
   ]
  },
  {
   "cell_type": "code",
   "execution_count": 1,
   "id": "3c4140f5",
   "metadata": {},
   "outputs": [],
   "source": [
    "def turn_right():\n",
    "    turn_left()\n",
    "    turn_left()\n",
    "    turn_left()"
   ]
  },
  {
   "cell_type": "markdown",
   "id": "043a07f9",
   "metadata": {},
   "source": [
    "# for loop"
   ]
  },
  {
   "cell_type": "raw",
   "id": "f37c5c26",
   "metadata": {},
   "source": [
    "for i in range(count):\n",
    "    statements"
   ]
  },
  {
   "cell_type": "markdown",
   "id": "63e29951",
   "metadata": {},
   "source": [
    "### 修改turn_right表达"
   ]
  },
  {
   "cell_type": "code",
   "execution_count": 2,
   "id": "fdf3c426",
   "metadata": {},
   "outputs": [],
   "source": [
    "def turn_right():\n",
    "    for i in range(3):\n",
    "        turn_left()"
   ]
  },
  {
   "cell_type": "markdown",
   "id": "100c03cb",
   "metadata": {},
   "source": [
    "# while loop"
   ]
  },
  {
   "cell_type": "raw",
   "id": "05a72014",
   "metadata": {},
   "source": [
    "while condition:\n",
    "    condition"
   ]
  },
  {
   "cell_type": "code",
   "execution_count": 5,
   "id": "4592d504",
   "metadata": {},
   "outputs": [],
   "source": [
    "#当前方无障碍物时，前进\n",
    "def move_to_wall():\n",
    "    while front_is_clear():\n",
    "        move()"
   ]
  },
  {
   "cell_type": "markdown",
   "id": "4bed920f",
   "metadata": {},
   "source": [
    "同样是循环，for loop和while loop的区别在于，for loop事先知道会循环多少次，while loop则未知"
   ]
  },
  {
   "cell_type": "code",
   "execution_count": 4,
   "id": "de3a1e83",
   "metadata": {},
   "outputs": [],
   "source": [
    "def move_to_wall2():\n",
    "    while front_is_clear():\n",
    "        move()\n",
    "    put_beeper()\n",
    "#这意味着，机器人当前方无障碍时会往前走，碰到障碍后，无法进入循环，然后put_beeper\n"
   ]
  },
  {
   "cell_type": "markdown",
   "id": "559f1b0f",
   "metadata": {},
   "source": [
    "# if statement"
   ]
  },
  {
   "cell_type": "raw",
   "id": "c45410c4",
   "metadata": {},
   "source": [
    "if condition:\n",
    "    statement"
   ]
  },
  {
   "cell_type": "markdown",
   "id": "12bb9efd",
   "metadata": {},
   "source": [
    "# if-else statement"
   ]
  },
  {
   "cell_type": "raw",
   "id": "e57d24b4",
   "metadata": {},
   "source": [
    "if condition:\n",
    "    statement\n",
    "else:\n",
    "    statement"
   ]
  },
  {
   "cell_type": "markdown",
   "id": "13554989",
   "metadata": {},
   "source": [
    "常常，我们正常输入完指令（包括函数），然后在后面再定义那些尚未被定义的函数。"
   ]
  },
  {
   "cell_type": "code",
   "execution_count": null,
   "id": "8b0d1766",
   "metadata": {},
   "outputs": [],
   "source": []
  }
 ],
 "metadata": {
  "kernelspec": {
   "display_name": "Python 3",
   "language": "python",
   "name": "python3"
  },
  "language_info": {
   "codemirror_mode": {
    "name": "ipython",
    "version": 3
   },
   "file_extension": ".py",
   "mimetype": "text/x-python",
   "name": "python",
   "nbconvert_exporter": "python",
   "pygments_lexer": "ipython3",
   "version": "3.8.8"
  }
 },
 "nbformat": 4,
 "nbformat_minor": 5
}
