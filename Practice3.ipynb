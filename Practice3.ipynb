{
 "cells": [
  {
   "cell_type": "markdown",
   "id": "8b4835cb",
   "metadata": {},
   "source": [
    "<h1 style='font-size:3rem; color:orange;'>Practice 3</h1>"
   ]
  },
  {
   "cell_type": "markdown",
   "id": "a3fb4265",
   "metadata": {},
   "source": [
    "<img src=\"https://img.freepik.com/free-photo/ai-nuclear-energy-background-future-innovation-disruptive-technology_53876-129783.jpg?t=st=1646321505~exp=1646322105~hmac=4f884f1c3a3288bb4443d48de97a6343ebac4a32ad4fd6ce77b50e70c04ec4ca&w=1380\">"
   ]
  },
  {
   "cell_type": "markdown",
   "id": "4ad8fd99",
   "metadata": {},
   "source": [
    "# 回顾"
   ]
  },
  {
   "cell_type": "markdown",
   "id": "75b1a6d6",
   "metadata": {},
   "source": [
    "## 函数"
   ]
  },
  {
   "cell_type": "markdown",
   "id": "7d6b759c",
   "metadata": {},
   "source": [
    "在这里，只有put_beeper()是内置的函数。"
   ]
  },
  {
   "cell_type": "code",
   "execution_count": 1,
   "id": "23fb3909",
   "metadata": {},
   "outputs": [],
   "source": [
    "def main():\n",
    "    go_to_moon()\n",
    "    \n",
    "#什么是go_to_moon()？在下面定义\n",
    "\n",
    "def go_to_moon():\n",
    "    build_spaceship()\n",
    "    \n",
    "#什么是build_spaceship()？在下面定义\n",
    "\n",
    "def build_spaceship():\n",
    "    put_beeper()"
   ]
  },
  {
   "cell_type": "markdown",
   "id": "6d957cfb",
   "metadata": {},
   "source": [
    "什么是一个好的函数？\n"
   ]
  },
  {
   "cell_type": "markdown",
   "id": "00f71af6",
   "metadata": {},
   "source": [
    "1.通过名称可知其作用，且所行乃抽象之事；2.不要超过十行；3.不要超过三级缩进；4.可以重复使用而且易于修改；5.写好批注"
   ]
  },
  {
   "cell_type": "markdown",
   "id": "634d5780",
   "metadata": {},
   "source": [
    "我们经常遇到很多bad function，艰难困苦，玉成于汝——基础的训练可以转战codewars"
   ]
  },
  {
   "cell_type": "markdown",
   "id": "f8a74cee",
   "metadata": {},
   "source": [
    "<img src=\"https://img-blog.csdnimg.cn/b9159b7b3ccf45fd91e9533170da0b1d.png?x-oss-process=image/watermark,type_d3F5LXplbmhlaQ,shadow_50,text_Q1NETiBA546L5qKT5rez,size_20,color_FFFFFF,t_70,g_se,x_16#pic_center\">"
   ]
  },
  {
   "cell_type": "markdown",
   "id": "637c6c2b",
   "metadata": {},
   "source": [
    "看看斯坦福给出的案例怎么说……"
   ]
  },
  {
   "cell_type": "markdown",
   "id": "204f110f",
   "metadata": {},
   "source": [
    "# 新的篇章——Python编程的正式开始"
   ]
  },
  {
   "cell_type": "markdown",
   "id": "d9d43845",
   "metadata": {},
   "source": [
    "# 用函数打出“Hello World!”——一个更一般的思维"
   ]
  },
  {
   "cell_type": "code",
   "execution_count": 10,
   "id": "ac46d654",
   "metadata": {},
   "outputs": [
    {
     "name": "stdout",
     "output_type": "stream",
     "text": [
      "Hello World!\n"
     ]
    }
   ],
   "source": [
    "'''\n",
    "问世间何为hello world\n",
    "'''\n",
    "def abc():\n",
    "    print('Hello World!')\n",
    "\n",
    "'''\n",
    "在一个被定义的函数中，下面这这两行代码是必要的\n",
    "\n",
    "注意，name前后下划线都是有两个的，等号也是两个 即[_]+[_]，[=]+[=]\n",
    "\n",
    "'''\n",
    "if __name__ == '__main__':\n",
    "    abc()\n",
    "    \n",
    "\n",
    "    "
   ]
  },
  {
   "cell_type": "markdown",
   "id": "b90705d4",
   "metadata": {},
   "source": [
    "为什么说\n",
    ">if __name__ == '__main__':\n",
    "    main()\n",
    "\n",
    "是重要的？\n",
    "\n",
    "首先，上面定义的函数中，\n",
    ">def main() 可以改成 def abc()等，随便，if __name__ == '__main__'不能动，下面的也相应改成 abc()，这个无伤大雅。 这两行语句的灵魂在于[if __name__ == '__main__']\n",
    "\n",
    "第二，解释一下[if __name__ == '__main__']者谁。[if __name__ == '__main__']的意思是：当.py文件被直接运行时，[if __name__ == '__main__']之下的代码块将被运行；当.py文件以模块形式被导入时，[if __name__ == '__main__']之下的代码块不被运行。\n",
    "  \n",
    "这是什么意思？\n",
    "\n",
    "我们假设这样一个流程：\n",
    "\n",
    "我们创建一个py文件，叫【pi.py】\n",
    "【pi.py】文件的内容是这样的：\n",
    ">PI = 3.14\n",
    " def main():\n",
    "    print(\"PI:\", PI)\n",
    " main()\n",
    " \n",
    "当我们直接运行，自然而然输出了\n",
    ">PI: 3.14\n",
    "\n",
    "接着，我们进行了这样一波操作，我们在另一个程序中要引用这个文件中的PI（这个过程不难实现，把两个py放在一个文件夹，直接用文件夹开cmd进入python是我认为最简单的，当然，放在Jupyter Notebook也是很方便的）\n",
    "\n",
    "我们在另一个文件中有这样的内容：\n",
    ">from pi import PI\n",
    "\n",
    ">def calc_round_area(radius):\n",
    "    return PI * (radius ** 2)\n",
    "\n",
    ">def main():\n",
    "    print(\"round area: \", calc_round_area(2))\n",
    "\n",
    ">main()\n",
    "\n",
    "当你以为一切风平浪静会只输出这个函数的[main()]的时候，但是实际会输出\n",
    ">PI: 3.14\n",
    "round area:  12.56\n",
    "\n",
    "这可如何是好？\n",
    "呵呵，你以为一个办法是前面的文件别叫main()，但是错了，和名字没关系。。。而是你引入的时候，那个程序就自己跑了一波了。于是我们的修改方法是\n",
    "\n",
    ">PI = 3.14\n",
    "\n",
    ">def main():\n",
    "    print(\"PI:\", PI)\n",
    "\n",
    ">if __name__ == \"__main__\":\n",
    "    main()\n",
    "\n",
    "此时，当我们再次调用PI函数，这里面的函数就不会被运行了。\n",
    "\n",
    "我就不在Jupyter notebook里面试了，因为我试过了。。这个notebook有问题，不会出现上面的问题。。但是cmd里面就会有，，，不管它了"
   ]
  },
  {
   "cell_type": "markdown",
   "id": "6cebccbd",
   "metadata": {},
   "source": [
    "备注一个操作（将.ipynb转为.py）：写好pi.ipynb包之后，点击文件-下载-py，然后把这个.py放到同一个Jupyter包里面就行。"
   ]
  },
  {
   "cell_type": "markdown",
   "id": "ccda2350",
   "metadata": {},
   "source": [
    "总结一下[if __name__ == \"__main__\"]\n",
    "\n",
    "if name == ‘main’\n",
    "__name__是python自带的属性，叫“内置名称”，不需要你定义，不需要你赋值，它的值是你【当前运行程序】的名称。\n",
    "\n",
    "运行程序，只有两种情况：1.自己运行自己 2.被其他文件调用\n",
    "\n",
    "1.自己运行自己，__name__值是__main__\n",
    "2.被其他模块调用，__name__值就是程序的文件名"
   ]
  },
  {
   "cell_type": "markdown",
   "id": "58f08b4d",
   "metadata": {},
   "source": [
    "# Print指令中，引号（quotes）的应用"
   ]
  },
  {
   "cell_type": "markdown",
   "id": "4e22d110",
   "metadata": {},
   "source": [
    "基本准则：单引号或者双引号是随便的。\n",
    "但是，如果Print的内容中，用到单引号，那么外面就要用双引号；如果里面用了双引号，那么就要用单引号。"
   ]
  },
  {
   "cell_type": "code",
   "execution_count": 1,
   "id": "0711c1e2",
   "metadata": {},
   "outputs": [
    {
     "name": "stdout",
     "output_type": "stream",
     "text": [
      "hi, \"baby\"\n"
     ]
    }
   ],
   "source": [
    "print('hi, \"baby\"')"
   ]
  },
  {
   "cell_type": "code",
   "execution_count": 2,
   "id": "07b7d049",
   "metadata": {},
   "outputs": [
    {
     "name": "stdout",
     "output_type": "stream",
     "text": [
      "hi,'baby'\n"
     ]
    }
   ],
   "source": [
    "print(\"hi,'baby'\")"
   ]
  },
  {
   "cell_type": "code",
   "execution_count": 3,
   "id": "078fc3a6",
   "metadata": {},
   "outputs": [
    {
     "ename": "SyntaxError",
     "evalue": "invalid syntax (<ipython-input-3-fafb56c206f6>, line 1)",
     "output_type": "error",
     "traceback": [
      "\u001b[1;36m  File \u001b[1;32m\"<ipython-input-3-fafb56c206f6>\"\u001b[1;36m, line \u001b[1;32m1\u001b[0m\n\u001b[1;33m    print(\"hi,\"baby\"\")\u001b[0m\n\u001b[1;37m               ^\u001b[0m\n\u001b[1;31mSyntaxError\u001b[0m\u001b[1;31m:\u001b[0m invalid syntax\n"
     ]
    }
   ],
   "source": [
    "print(\"hi,\"baby\"\")"
   ]
  },
  {
   "cell_type": "markdown",
   "id": "3896f8c6",
   "metadata": {},
   "source": [
    "一、二是正确的，第三个是错误的"
   ]
  },
  {
   "cell_type": "markdown",
   "id": "8d596c87",
   "metadata": {},
   "source": [
    "# PRINT之连接字符串"
   ]
  },
  {
   "cell_type": "markdown",
   "id": "b2151a88",
   "metadata": {},
   "source": [
    "Print里面连接字符串只需要使用加号➕"
   ]
  },
  {
   "cell_type": "code",
   "execution_count": 6,
   "id": "1000f005",
   "metadata": {},
   "outputs": [
    {
     "name": "stdout",
     "output_type": "stream",
     "text": [
      "The total is 1.\n"
     ]
    }
   ],
   "source": [
    "print(\"The total is \" + str(1) + \".\")"
   ]
  },
  {
   "cell_type": "markdown",
   "id": "8862f76c",
   "metadata": {},
   "source": [
    "习惯上，我们在打印中，如果利用加号➕来连接字符串，我们一定要把数值型变量转换为字符串，即加入[str()]。只有单独输出数值的时候，我们才不转换。\n",
    "\n",
    "需要注意的是，对数值型变量x，str(x)是一个新的变量，不改变原来x的属性，即x依然是数值型，str(x)是一个新的变量\n",
    "\n",
    "实际上，python里面我们也可以通过逗号的形式连接字符串，只是这个时候，由于逗号的存在会自动空开一个各自。注意上面那个式子，1和后面的鹅【.】是连在一起的。下面的则自动空开了。"
   ]
  },
  {
   "cell_type": "code",
   "execution_count": 7,
   "id": "00ee3df6",
   "metadata": {},
   "outputs": [
    {
     "name": "stdout",
     "output_type": "stream",
     "text": [
      "The total is  1 .\n"
     ]
    }
   ],
   "source": [
    "print(\"The total is \", str(1), \".\")"
   ]
  },
  {
   "cell_type": "markdown",
   "id": "ed01812e",
   "metadata": {},
   "source": [
    "# Input指令"
   ]
  },
  {
   "cell_type": "markdown",
   "id": "6cf1111c",
   "metadata": {},
   "source": [
    "凡Input之所输入，乃默认为文本，即使你输入了数字。因此，如果你要进行运算，必须转换为数字。"
   ]
  },
  {
   "cell_type": "code",
   "execution_count": 1,
   "id": "b05357be",
   "metadata": {},
   "outputs": [],
   "source": [
    "def main():\n",
    "    print(\"Hi! Welcome to the game\")\n",
    "    x1 = input(\"Please enter a number = \")\n",
    "    x2 = input(\"Again = \")\n",
    "    x1 = float(x1)\n",
    "    x2 = float(x2)\n",
    "    total = x1 + x2\n",
    "    print(\"Total is\", str(total))"
   ]
  },
  {
   "cell_type": "code",
   "execution_count": 10,
   "id": "40260ade",
   "metadata": {},
   "outputs": [
    {
     "name": "stdout",
     "output_type": "stream",
     "text": [
      "Hi! Welcome to the game\n",
      "Please enter a number = 10\n",
      "Again = 2.56\n",
      "Total is 12.56\n"
     ]
    }
   ],
   "source": [
    "main()"
   ]
  },
  {
   "cell_type": "markdown",
   "id": "72423564",
   "metadata": {},
   "source": [
    "# 变量基础"
   ]
  },
  {
   "cell_type": "markdown",
   "id": "37ccc4f2",
   "metadata": {},
   "source": [
    "    变量之赋值规则乃右边向左边赋值。\n",
    "    变量有所谓作用域，即在函数定义中所设变量，仅在函数中有用。具体而言，这里涉及到函数的作用域（scope of variable)"
   ]
  },
  {
   "cell_type": "markdown",
   "id": "ed167d10",
   "metadata": {},
   "source": [
    "### 函数作用域（scope of variable)"
   ]
  },
  {
   "cell_type": "markdown",
   "id": "b6d5858c",
   "metadata": {},
   "source": [
    "    在函数体内定义的变量具有局部作用域，而在函数体外部定义的变量具有全局作用域。\n",
    "    这意味着只能在声明局部变量的函数内部访问局部变量，而全局变量可以由所有函数在整个程序主体中访问。调用函数时，其中声明的变量将进入作用域。"
   ]
  },
  {
   "cell_type": "code",
   "execution_count": 21,
   "id": "a2f885ab",
   "metadata": {},
   "outputs": [
    {
     "name": "stdout",
     "output_type": "stream",
     "text": [
      "Outside the function global total : 30\n",
      "Outside the function global total :  0\n"
     ]
    }
   ],
   "source": [
    "total = 0; # This is global variable.\n",
    "def sum( arg1, arg2 ):\n",
    "   # Add both the parameters and return them.\"\n",
    "   total = arg1 + arg2; # Here total is local variable.\n",
    "   print(\"Outside the function global total :\", total)\n",
    "   return total;\n",
    "# Now you can call sum function\n",
    "sum( 10, 20 );\n",
    "print(\"Outside the function global total : \", total) #这里的total并没有引起误会，就是因为函数sum里面的total在外部是无效的，是看不见的\n",
    "#程序只能看见外部的total=0，内外部是隔离开的，是隔离开的，互不影响的。"
   ]
  },
  {
   "cell_type": "markdown",
   "id": "09410c0a",
   "metadata": {},
   "source": [
    "### 命名规则"
   ]
  },
  {
   "cell_type": "markdown",
   "id": "b52690f2",
   "metadata": {},
   "source": [
    "– Start with a letter or an underscore ( _ ) \n",
    "\n",
    "– Contain only letters, digits, or underscores\n",
    "\n",
    "– Cannot be a \"built in\" command in Python (e.g., for)"
   ]
  },
  {
   "cell_type": "markdown",
   "id": "0a307b70",
   "metadata": {},
   "source": [
    "### 基本数字类型"
   ]
  },
  {
   "cell_type": "markdown",
   "id": "4b47d628",
   "metadata": {},
   "source": [
    "int: integer value (no decimal point)\n",
    "\n",
    "float: real number value (has decimal point)\n",
    "\n",
    "string: text characters (between single/double quotes)\n",
    "\n",
    "bool: Boolean logical values (True/False)"
   ]
  },
  {
   "cell_type": "code",
   "execution_count": null,
   "id": "aa46bc34",
   "metadata": {},
   "outputs": [],
   "source": []
  }
 ],
 "metadata": {
  "kernelspec": {
   "display_name": "Python 3",
   "language": "python",
   "name": "python3"
  },
  "language_info": {
   "codemirror_mode": {
    "name": "ipython",
    "version": 3
   },
   "file_extension": ".py",
   "mimetype": "text/x-python",
   "name": "python",
   "nbconvert_exporter": "python",
   "pygments_lexer": "ipython3",
   "version": "3.8.8"
  }
 },
 "nbformat": 4,
 "nbformat_minor": 5
}
